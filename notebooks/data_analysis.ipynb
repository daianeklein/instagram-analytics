{
 "cells": [
  {
   "cell_type": "markdown",
   "id": "48c7dc22",
   "metadata": {},
   "source": [
    "# Lady Gaga Instagram Posts"
   ]
  },
  {
   "cell_type": "markdown",
   "id": "6d1dfa59",
   "metadata": {},
   "source": [
    "## Libs"
   ]
  },
  {
   "cell_type": "code",
   "execution_count": 2,
   "id": "4effa3a2",
   "metadata": {},
   "outputs": [],
   "source": [
    "import pandas as pd\n",
    "import matplotlib as plt\n",
    "import seaborn as sns\n",
    "\n",
    "from pathlib import Path\n"
   ]
  },
  {
   "cell_type": "markdown",
   "id": "ad937ae3",
   "metadata": {},
   "source": [
    "## DATA"
   ]
  },
  {
   "cell_type": "code",
   "execution_count": 11,
   "id": "2058908e",
   "metadata": {},
   "outputs": [],
   "source": [
    "current_path = Path.cwd()\n",
    "data_dir = current_path.parent / 'data' / 'processed'\n",
    "data = f'{data_dir}/instagram_ladygaga_2025-05-12_14-11-29_processed.csv'\n",
    "df = pd.read_csv(data, sep=';')"
   ]
  },
  {
   "cell_type": "code",
   "execution_count": 12,
   "id": "d9c24b7e",
   "metadata": {},
   "outputs": [
    {
     "data": {
      "text/html": [
       "<div>\n",
       "<style scoped>\n",
       "    .dataframe tbody tr th:only-of-type {\n",
       "        vertical-align: middle;\n",
       "    }\n",
       "\n",
       "    .dataframe tbody tr th {\n",
       "        vertical-align: top;\n",
       "    }\n",
       "\n",
       "    .dataframe thead th {\n",
       "        text-align: right;\n",
       "    }\n",
       "</style>\n",
       "<table border=\"1\" class=\"dataframe\">\n",
       "  <thead>\n",
       "    <tr style=\"text-align: right;\">\n",
       "      <th></th>\n",
       "      <th>post_id</th>\n",
       "      <th>caption</th>\n",
       "      <th>likes_count</th>\n",
       "      <th>media_url</th>\n",
       "      <th>date</th>\n",
       "      <th>time</th>\n",
       "    </tr>\n",
       "  </thead>\n",
       "  <tbody>\n",
       "    <tr>\n",
       "      <th>0</th>\n",
       "      <td>3620880300369349579</td>\n",
       "      <td>And just like that we're back 🖤 VIVA LA MAYHEM...</td>\n",
       "      <td>2629615</td>\n",
       "      <td>NaN</td>\n",
       "      <td>28-04-2025</td>\n",
       "      <td>17:49</td>\n",
       "    </tr>\n",
       "    <tr>\n",
       "      <th>1</th>\n",
       "      <td>3625179909652482815</td>\n",
       "      <td>Nothing could prepare me for the feeling I had...</td>\n",
       "      <td>4345039</td>\n",
       "      <td>NaN</td>\n",
       "      <td>04-05-2025</td>\n",
       "      <td>16:12</td>\n",
       "    </tr>\n",
       "  </tbody>\n",
       "</table>\n",
       "</div>"
      ],
      "text/plain": [
       "               post_id                                            caption  \\\n",
       "0  3620880300369349579  And just like that we're back 🖤 VIVA LA MAYHEM...   \n",
       "1  3625179909652482815  Nothing could prepare me for the feeling I had...   \n",
       "\n",
       "   likes_count  media_url        date   time  \n",
       "0      2629615        NaN  28-04-2025  17:49  \n",
       "1      4345039        NaN  04-05-2025  16:12  "
      ]
     },
     "execution_count": 12,
     "metadata": {},
     "output_type": "execute_result"
    }
   ],
   "source": [
    "df.head()"
   ]
  }
 ],
 "metadata": {
  "kernelspec": {
   "display_name": "venv-insta-analytics",
   "language": "python",
   "name": "python3"
  },
  "language_info": {
   "codemirror_mode": {
    "name": "ipython",
    "version": 3
   },
   "file_extension": ".py",
   "mimetype": "text/x-python",
   "name": "python",
   "nbconvert_exporter": "python",
   "pygments_lexer": "ipython3",
   "version": "3.10.13"
  }
 },
 "nbformat": 4,
 "nbformat_minor": 5
}
