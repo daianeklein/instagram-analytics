{
 "cells": [
  {
   "cell_type": "markdown",
   "id": "48c7dc22",
   "metadata": {},
   "source": [
    "# Lady Gaga Instagram Posts"
   ]
  },
  {
   "cell_type": "markdown",
   "id": "6d1dfa59",
   "metadata": {},
   "source": [
    "## Libs"
   ]
  },
  {
   "cell_type": "code",
   "execution_count": 1,
   "id": "4effa3a2",
   "metadata": {},
   "outputs": [],
   "source": [
    "import pandas as pd\n",
    "import matplotlib.pyplot as plt\n",
    "import seaborn as sns\n",
    "\n",
    "from pathlib import Path\n"
   ]
  },
  {
   "cell_type": "markdown",
   "id": "ad937ae3",
   "metadata": {},
   "source": [
    "## DATA"
   ]
  },
  {
   "cell_type": "code",
   "execution_count": 2,
   "id": "2058908e",
   "metadata": {},
   "outputs": [],
   "source": [
    "current_path = Path.cwd()\n",
    "data_dir = current_path.parent / 'data' / 'processed'\n",
    "data = f'{data_dir}/instagram_ladygaga_2025-05-12_14-57-13_processed.csv'\n",
    "df = pd.read_csv(data, sep=';')"
   ]
  },
  {
   "cell_type": "code",
   "execution_count": 3,
   "id": "d9c24b7e",
   "metadata": {},
   "outputs": [
    {
     "data": {
      "text/html": [
       "<div>\n",
       "<style scoped>\n",
       "    .dataframe tbody tr th:only-of-type {\n",
       "        vertical-align: middle;\n",
       "    }\n",
       "\n",
       "    .dataframe tbody tr th {\n",
       "        vertical-align: top;\n",
       "    }\n",
       "\n",
       "    .dataframe thead th {\n",
       "        text-align: right;\n",
       "    }\n",
       "</style>\n",
       "<table border=\"1\" class=\"dataframe\">\n",
       "  <thead>\n",
       "    <tr style=\"text-align: right;\">\n",
       "      <th></th>\n",
       "      <th>post_id</th>\n",
       "      <th>caption</th>\n",
       "      <th>likes_count</th>\n",
       "      <th>media_url</th>\n",
       "      <th>date</th>\n",
       "      <th>time</th>\n",
       "    </tr>\n",
       "  </thead>\n",
       "  <tbody>\n",
       "    <tr>\n",
       "      <th>0</th>\n",
       "      <td>3591166785212736472</td>\n",
       "      <td>LAST NIGHT iheart💔radio thanks for the innovat...</td>\n",
       "      <td>1034653</td>\n",
       "      <td>NaN</td>\n",
       "      <td>18-03-2025</td>\n",
       "      <td>17:54</td>\n",
       "    </tr>\n",
       "    <tr>\n",
       "      <th>1</th>\n",
       "      <td>3586126586446788087</td>\n",
       "      <td>MAYHEM vinyl is available at your local record...</td>\n",
       "      <td>464477</td>\n",
       "      <td>https://instagram.fdac5-2.fna.fbcdn.net/o1/v/t...</td>\n",
       "      <td>11-03-2025</td>\n",
       "      <td>19:13</td>\n",
       "    </tr>\n",
       "    <tr>\n",
       "      <th>2</th>\n",
       "      <td>3625179909652482815</td>\n",
       "      <td>Nothing could prepare me for the feeling I had...</td>\n",
       "      <td>4345411</td>\n",
       "      <td>NaN</td>\n",
       "      <td>04-05-2025</td>\n",
       "      <td>16:12</td>\n",
       "    </tr>\n",
       "    <tr>\n",
       "      <th>3</th>\n",
       "      <td>3597786369592240862</td>\n",
       "      <td>I truly can’t get enough of all of your “Abrac...</td>\n",
       "      <td>473578</td>\n",
       "      <td>https://scontent-iad3-2.cdninstagram.com/o1/v/...</td>\n",
       "      <td>27-03-2025</td>\n",
       "      <td>21:07</td>\n",
       "    </tr>\n",
       "    <tr>\n",
       "      <th>4</th>\n",
       "      <td>3596786733871926123</td>\n",
       "      <td>I wasn’t planning to tour this year after my s...</td>\n",
       "      <td>1451953</td>\n",
       "      <td>NaN</td>\n",
       "      <td>26-03-2025</td>\n",
       "      <td>12:00</td>\n",
       "    </tr>\n",
       "  </tbody>\n",
       "</table>\n",
       "</div>"
      ],
      "text/plain": [
       "               post_id                                            caption  \\\n",
       "0  3591166785212736472  LAST NIGHT iheart💔radio thanks for the innovat...   \n",
       "1  3586126586446788087  MAYHEM vinyl is available at your local record...   \n",
       "2  3625179909652482815  Nothing could prepare me for the feeling I had...   \n",
       "3  3597786369592240862  I truly can’t get enough of all of your “Abrac...   \n",
       "4  3596786733871926123  I wasn’t planning to tour this year after my s...   \n",
       "\n",
       "   likes_count                                          media_url        date  \\\n",
       "0      1034653                                                NaN  18-03-2025   \n",
       "1       464477  https://instagram.fdac5-2.fna.fbcdn.net/o1/v/t...  11-03-2025   \n",
       "2      4345411                                                NaN  04-05-2025   \n",
       "3       473578  https://scontent-iad3-2.cdninstagram.com/o1/v/...  27-03-2025   \n",
       "4      1451953                                                NaN  26-03-2025   \n",
       "\n",
       "    time  \n",
       "0  17:54  \n",
       "1  19:13  \n",
       "2  16:12  \n",
       "3  21:07  \n",
       "4  12:00  "
      ]
     },
     "execution_count": 3,
     "metadata": {},
     "output_type": "execute_result"
    }
   ],
   "source": [
    "df.head()"
   ]
  },
  {
   "cell_type": "code",
   "execution_count": 5,
   "id": "a82208fe",
   "metadata": {},
   "outputs": [
    {
     "data": {
      "text/plain": [
       "post_id         int64\n",
       "caption        object\n",
       "likes_count     int64\n",
       "media_url      object\n",
       "date           object\n",
       "time           object\n",
       "dtype: object"
      ]
     },
     "execution_count": 5,
     "metadata": {},
     "output_type": "execute_result"
    }
   ],
   "source": [
    "df.dtypes"
   ]
  },
  {
   "cell_type": "code",
   "execution_count": 6,
   "id": "6578ab0d",
   "metadata": {},
   "outputs": [],
   "source": [
    "df['date'] = pd.to_datetime(df['date'], format='%d-%m-%Y')"
   ]
  },
  {
   "cell_type": "code",
   "execution_count": 17,
   "id": "ad16843a",
   "metadata": {},
   "outputs": [],
   "source": [
    "df = df.sort_values(by='likes_count')"
   ]
  },
  {
   "cell_type": "code",
   "execution_count": 9,
   "id": "28cfe4a6",
   "metadata": {},
   "outputs": [],
   "source": [
    "# Generate bins \n",
    "bins_0_to_1m = list(range(0, 1_100_000, 100_000))\n",
    "\n",
    "# in steps of 100,000\n",
    "bins_1m_to_10m = list(range(1_100_000, 10_100_000, 100_000))\n",
    "\n",
    "# Combine and add infinity\n",
    "bins = bins_0_to_1m + bins_1m_to_10m + [float('inf')]\n",
    "\n",
    "# Generate labels\n",
    "labels = []\n",
    "for i in range(len(bins) - 1):\n",
    "    value = bins[i]\n",
    "    if value < 1_000_000:\n",
    "        # Format as \"Xk\" or \"<Xk\" for the first bin\n",
    "        if value == 0:\n",
    "            labels.append(f'<{bins[i+1] // 1000}k')\n",
    "        else:\n",
    "            labels.append(f'{value // 1000}k+')\n",
    "    else:\n",
    "        # Format as \"X.Ymi+\"\n",
    "        millions = value / 1_000_000\n",
    "        labels.append(f'{millions:.1f}mi+')"
   ]
  },
  {
   "cell_type": "code",
   "execution_count": 10,
   "id": "734a2371",
   "metadata": {},
   "outputs": [],
   "source": [
    "df['likes_count_cat'] = pd.cut(df['likes_count'], bins=bins, labels=labels, right=False)\n"
   ]
  },
  {
   "cell_type": "markdown",
   "id": "77cf5650",
   "metadata": {},
   "source": [
    "## Visualization"
   ]
  },
  {
   "cell_type": "code",
   "execution_count": 35,
   "id": "1b6b986a",
   "metadata": {},
   "outputs": [
    {
     "data": {
      "image/png": "[encoded data removed]",
      "text/plain": [
       "<Figure size 1200x500 with 1 Axes>"
      ]
     },
     "metadata": {},
     "output_type": "display_data"
    }
   ],
   "source": [
    "plt.figure(figsize=(12, 5))\n",
    "\n",
    "# Add smooth line with markers\n",
    "sns.lineplot(data=df, x='date', y='likes_count', marker='o', linewidth=2)\n",
    "\n",
    "# Get the rows with the highest and lowest likes_count\n",
    "max_row = df.loc[df['likes_count'].idxmax()]\n",
    "min_row = df.loc[df['likes_count'].idxmin()]\n",
    "\n",
    "# Add label for the max point\n",
    "plt.text(max_row['date'], max_row['likes_count'], str(max_row['likes_count_cat']),\n",
    "         ha='center', va='bottom', fontsize=10)\n",
    "\n",
    "# Add label for the min point\n",
    "plt.text(min_row['date'], min_row['likes_count'], str(min_row['likes_count_cat']),\n",
    "         ha='center', va='top', fontsize=10)\n",
    "\n",
    "# Title and axis settings\n",
    "plt.title('Likes Count Over Time', fontsize=14)\n",
    "plt.xlabel('Date of the Instagram post', fontsize=12)\n",
    "plt.ylabel('')  # Remove Y-axis name\n",
    "plt.yticks([])  # Remove Y-axis ticks\n",
    "plt.xticks(rotation=90, color='gray', fontsize=8)\n",
    "sns.despine(left=True)\n",
    "\n",
    "# Improve the number of x-axis ticks\n",
    "plt.gca().xaxis.set_major_locator(plt.MaxNLocator(nbins=30, prune=None))  # Show more ticks\n",
    "\n",
    "plt.tight_layout()\n",
    "plt.show()\n"
   ]
  },
  {
   "cell_type": "code",
   "execution_count": null,
   "id": "378769bd",
   "metadata": {},
   "outputs": [],
   "source": []
  },
  {
   "cell_type": "code",
   "execution_count": null,
   "id": "c39611c4",
   "metadata": {},
   "outputs": [],
   "source": []
  }
 ],
 "metadata": {
  "kernelspec": {
   "display_name": "venv-insta-analytics",
   "language": "python",
   "name": "python3"
  },
  "language_info": {
   "codemirror_mode": {
    "name": "ipython",
    "version": 3
   },
   "file_extension": ".py",
   "mimetype": "text/x-python",
   "name": "python",
   "nbconvert_exporter": "python",
   "pygments_lexer": "ipython3",
   "version": "3.10.13"
  }
 },
 "nbformat": 4,
 "nbformat_minor": 5
}
